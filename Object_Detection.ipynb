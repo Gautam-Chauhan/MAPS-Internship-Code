{
  "nbformat": 4,
  "nbformat_minor": 0,
  "metadata": {
    "colab": {
      "provenance": [],
      "authorship_tag": "ABX9TyN3WECGr8uwr/sluqRI7xqx",
      "include_colab_link": true
    },
    "kernelspec": {
      "name": "python3",
      "display_name": "Python 3"
    },
    "language_info": {
      "name": "python"
    }
  },
  "cells": [
    {
      "cell_type": "markdown",
      "metadata": {
        "id": "view-in-github",
        "colab_type": "text"
      },
      "source": [
        "<a href=\"https://colab.research.google.com/github/Gautam-Chauhan/Code/blob/main/Object_Detection.ipynb\" target=\"_parent\"><img src=\"https://colab.research.google.com/assets/colab-badge.svg\" alt=\"Open In Colab\"/></a>"
      ]
    },
    {
      "cell_type": "markdown",
      "source": [
        "# Object Detection Notebook"
      ],
      "metadata": {
        "id": "TV80nxGjXz73"
      }
    },
    {
      "cell_type": "markdown",
      "source": [
        "In this notebook, we will fine-tune a pre-trained model for object detection with the TensorFlow Object Detection API.\n",
        "\n",
        "This notebook will closely follow the official TensorFlow Object Detection Tutorial: https://tensorflow-object-detection-api-tutorial.readthedocs.io/en/latest/training.html#"
      ],
      "metadata": {
        "id": "tyT-ThjZYBMM"
      }
    },
    {
      "cell_type": "code",
      "source": [],
      "metadata": {
        "id": "l3zeGYoLYJx1"
      },
      "execution_count": null,
      "outputs": []
    }
  ]
}