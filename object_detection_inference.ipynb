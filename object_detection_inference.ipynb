{
  "nbformat": 4,
  "nbformat_minor": 0,
  "metadata": {
    "colab": {
      "provenance": [],
      "gpuType": "L4",
      "authorship_tag": "ABX9TyPngOWDR5y9RXDUvdm7JHUP",
      "include_colab_link": true
    },
    "kernelspec": {
      "name": "python3",
      "display_name": "Python 3"
    },
    "language_info": {
      "name": "python"
    },
    "accelerator": "GPU"
  },
  "cells": [
    {
      "cell_type": "markdown",
      "metadata": {
        "id": "view-in-github",
        "colab_type": "text"
      },
      "source": [
        "<a href=\"https://colab.research.google.com/github/Gautam-Chauhan/MAPS-Internship-Code/blob/main/object_detection_inference.ipynb\" target=\"_parent\"><img src=\"https://colab.research.google.com/assets/colab-badge.svg\" alt=\"Open In Colab\"/></a>"
      ]
    },
    {
      "cell_type": "markdown",
      "source": [
        "# Object Detection Inference with TensorFlow Model Garden"
      ],
      "metadata": {
        "id": "rYwlq2awa9KF"
      }
    },
    {
      "cell_type": "markdown",
      "source": [
        "This notebook uses my fine-tuned object detection model to detect trash in images of the streets and drainage canals in the city of Quelimane in Mozambique.\n",
        "\n",
        "Based on the following tutorial:\n",
        "\n",
        "https://www.tensorflow.org/tfmodels/vision/object_detection"
      ],
      "metadata": {
        "id": "E-wOP0A1bDf0"
      }
    },
    {
      "cell_type": "markdown",
      "source": [
        "To use this notebook to identify trash in some unseen images, run the cells in the following sections, one by one, in order:\n",
        "\n",
        "- Preliminaries\n",
        "- Inference on Dataset\n",
        "\n",
        "The section titled \"Visualise Test Images and Predictions\" is just for looking at some examples of images from a test dataset. You do NOT need to run this section to make new predictions."
      ],
      "metadata": {
        "id": "tRpNopgBQsJj"
      }
    },
    {
      "cell_type": "markdown",
      "source": [
        "This notebook will require the data and trained model to be located in a google drive.\n",
        "\n",
        "To use this code, you need the following folder structure:\n",
        "\n",
        "- A folder called Object_Detection inside your drive\n",
        "- Folders for the model checkpoints, exported model and data should be placed inside that folder"
      ],
      "metadata": {
        "id": "NRHy5cWMO-9A"
      }
    },
    {
      "cell_type": "markdown",
      "source": [
        "### PRELIMINARIES"
      ],
      "metadata": {
        "id": "Hiz0m8Ygv-Z0"
      }
    },
    {
      "cell_type": "markdown",
      "source": [
        "#### Mount google drive"
      ],
      "metadata": {
        "id": "kNfBookVcvhM"
      }
    },
    {
      "cell_type": "code",
      "source": [
        "from google.colab import drive\n",
        "drive.mount('/content/drive')"
      ],
      "metadata": {
        "colab": {
          "base_uri": "https://localhost:8080/"
        },
        "id": "xyimCawwa-pt",
        "outputId": "6dbe9a3e-e6d0-4883-9bbd-f7a5ac046069"
      },
      "execution_count": 2,
      "outputs": [
        {
          "output_type": "stream",
          "name": "stdout",
          "text": [
            "Mounted at /content/drive\n"
          ]
        }
      ]
    },
    {
      "cell_type": "markdown",
      "source": [
        "#### Install packages"
      ],
      "metadata": {
        "id": "BaU91i4deP4n"
      }
    },
    {
      "cell_type": "markdown",
      "source": [
        "The following cell will install a new version of NumPy, restart the session when prompted after running this cell:"
      ],
      "metadata": {
        "id": "7tnclDFzhtOL"
      }
    },
    {
      "cell_type": "code",
      "source": [
        "# Uninstall the current numpy version to avoid conflicts\n",
        "!pip uninstall -y numpy\n",
        "# Install a numpy version compatible with TensorFlow\n",
        "!pip install numpy==1.26.4"
      ],
      "metadata": {
        "colab": {
          "base_uri": "https://localhost:8080/",
          "height": 403
        },
        "id": "JwadSlzneJ17",
        "outputId": "98e84d37-5e9d-4801-8c1d-ab74f40351e7"
      },
      "execution_count": 3,
      "outputs": [
        {
          "output_type": "stream",
          "name": "stdout",
          "text": [
            "Found existing installation: numpy 2.0.2\n",
            "Uninstalling numpy-2.0.2:\n",
            "  Successfully uninstalled numpy-2.0.2\n",
            "Collecting numpy==1.26.4\n",
            "  Downloading numpy-1.26.4-cp312-cp312-manylinux_2_17_x86_64.manylinux2014_x86_64.whl.metadata (61 kB)\n",
            "\u001b[2K     \u001b[90m━━━━━━━━━━━━━━━━━━━━━━━━━━━━━━━━━━━━━━━━\u001b[0m \u001b[32m61.0/61.0 kB\u001b[0m \u001b[31m5.7 MB/s\u001b[0m eta \u001b[36m0:00:00\u001b[0m\n",
            "\u001b[?25hDownloading numpy-1.26.4-cp312-cp312-manylinux_2_17_x86_64.manylinux2014_x86_64.whl (18.0 MB)\n",
            "\u001b[2K   \u001b[90m━━━━━━━━━━━━━━━━━━━━━━━━━━━━━━━━━━━━━━━━\u001b[0m \u001b[32m18.0/18.0 MB\u001b[0m \u001b[31m119.4 MB/s\u001b[0m eta \u001b[36m0:00:00\u001b[0m\n",
            "\u001b[?25hInstalling collected packages: numpy\n",
            "\u001b[31mERROR: pip's dependency resolver does not currently take into account all the packages that are installed. This behaviour is the source of the following dependency conflicts.\n",
            "opencv-python 4.12.0.88 requires numpy<2.3.0,>=2; python_version >= \"3.9\", but you have numpy 1.26.4 which is incompatible.\n",
            "thinc 8.3.6 requires numpy<3.0.0,>=2.0.0, but you have numpy 1.26.4 which is incompatible.\n",
            "opencv-python-headless 4.12.0.88 requires numpy<2.3.0,>=2; python_version >= \"3.9\", but you have numpy 1.26.4 which is incompatible.\n",
            "opencv-contrib-python 4.12.0.88 requires numpy<2.3.0,>=2; python_version >= \"3.9\", but you have numpy 1.26.4 which is incompatible.\u001b[0m\u001b[31m\n",
            "\u001b[0mSuccessfully installed numpy-1.26.4\n"
          ]
        },
        {
          "output_type": "display_data",
          "data": {
            "application/vnd.colab-display-data+json": {
              "pip_warning": {
                "packages": [
                  "numpy"
                ]
              },
              "id": "54aab45df22a4fd19eb3eec5b559dc53"
            }
          },
          "metadata": {}
        }
      ]
    },
    {
      "cell_type": "code",
      "source": [
        "# Install tf-models-official, ensuring compatibility with the installed numpy and TensorFlow versions\n",
        "!pip install -U -q \"tf-models-official\""
      ],
      "metadata": {
        "id": "JEwDW9VhgYKj",
        "colab": {
          "base_uri": "https://localhost:8080/"
        },
        "outputId": "c5c2dd29-be30-4623-9e63-fd54a1b0b9d4"
      },
      "execution_count": 1,
      "outputs": [
        {
          "output_type": "stream",
          "name": "stdout",
          "text": [
            "\u001b[2K     \u001b[90m━━━━━━━━━━━━━━━━━━━━━━━━━━━━━━━━━━━━━━━━\u001b[0m \u001b[32m43.6/43.6 kB\u001b[0m \u001b[31m4.0 MB/s\u001b[0m eta \u001b[36m0:00:00\u001b[0m\n",
            "\u001b[?25h  Preparing metadata (setup.py) ... \u001b[?25l\u001b[?25hdone\n",
            "\u001b[2K     \u001b[90m━━━━━━━━━━━━━━━━━━━━━━━━━━━━━━━━━━━━━━━━\u001b[0m \u001b[32m51.8/51.8 kB\u001b[0m \u001b[31m4.8 MB/s\u001b[0m eta \u001b[36m0:00:00\u001b[0m\n",
            "\u001b[2K   \u001b[90m━━━━━━━━━━━━━━━━━━━━━━━━━━━━━━━━━━━━━━━━\u001b[0m \u001b[32m2.9/2.9 MB\u001b[0m \u001b[31m97.5 MB/s\u001b[0m eta \u001b[36m0:00:00\u001b[0m\n",
            "\u001b[2K   \u001b[90m━━━━━━━━━━━━━━━━━━━━━━━━━━━━━━━━━━━━━━━━\u001b[0m \u001b[32m11.2/11.2 MB\u001b[0m \u001b[31m10.7 MB/s\u001b[0m eta \u001b[36m0:00:00\u001b[0m\n",
            "\u001b[2K   \u001b[90m━━━━━━━━━━━━━━━━━━━━━━━━━━━━━━━━━━━━━━━━\u001b[0m \u001b[32m242.5/242.5 kB\u001b[0m \u001b[31m23.9 MB/s\u001b[0m eta \u001b[36m0:00:00\u001b[0m\n",
            "\u001b[2K   \u001b[90m━━━━━━━━━━━━━━━━━━━━━━━━━━━━━━━━━━━━━━━━\u001b[0m \u001b[32m50.0/50.0 MB\u001b[0m \u001b[31m34.3 MB/s\u001b[0m eta \u001b[36m0:00:00\u001b[0m\n",
            "\u001b[2K   \u001b[90m━━━━━━━━━━━━━━━━━━━━━━━━━━━━━━━━━━━━━━━━\u001b[0m \u001b[32m104.1/104.1 kB\u001b[0m \u001b[31m9.9 MB/s\u001b[0m eta \u001b[36m0:00:00\u001b[0m\n",
            "\u001b[?25h  Building wheel for seqeval (setup.py) ... \u001b[?25l\u001b[?25hdone\n"
          ]
        }
      ]
    },
    {
      "cell_type": "markdown",
      "source": [
        "#### Import relevant libraries"
      ],
      "metadata": {
        "id": "jjsu5I1VggDt"
      }
    },
    {
      "cell_type": "code",
      "source": [
        "import os\n",
        "import io\n",
        "import pprint\n",
        "import tempfile\n",
        "import matplotlib\n",
        "import numpy as np\n",
        "import tensorflow as tf\n",
        "import matplotlib.pyplot as plt\n",
        "from PIL import Image\n",
        "from six import BytesIO\n",
        "import time\n",
        "import cv2\n",
        "import csv\n",
        "import glob"
      ],
      "metadata": {
        "id": "s0zdvtuDgfNK"
      },
      "execution_count": 2,
      "outputs": []
    },
    {
      "cell_type": "code",
      "source": [
        "import orbit\n",
        "import tensorflow_models as tfm\n",
        "\n",
        "from official.core import exp_factory\n",
        "from official.core import config_definitions as cfg\n",
        "from official.vision.serving import export_saved_model_lib\n",
        "from official.vision.ops.preprocess_ops import normalize_image\n",
        "from official.vision.ops.preprocess_ops import resize_and_crop_image\n",
        "from official.vision.utils.object_detection import visualization_utils\n",
        "from official.vision.dataloaders.tf_example_decoder import TfExampleDecoder\n",
        "\n",
        "pp = pprint.PrettyPrinter(indent=4) # Set Pretty Print Indentation\n",
        "print(tf.__version__) # Check the version of tensorflow used\n",
        "\n",
        "%matplotlib inline"
      ],
      "metadata": {
        "colab": {
          "base_uri": "https://localhost:8080/"
        },
        "id": "jKGto1pgg59I",
        "outputId": "7574f813-7658-4745-a2cd-b027e5796deb"
      },
      "execution_count": 3,
      "outputs": [
        {
          "output_type": "stream",
          "name": "stdout",
          "text": [
            "2.19.0\n"
          ]
        }
      ]
    },
    {
      "cell_type": "markdown",
      "source": [
        "#### Set paths to files in drive"
      ],
      "metadata": {
        "id": "mr-OTlTtjm_M"
      }
    },
    {
      "cell_type": "code",
      "source": [
        "model_dir = '/content/drive/MyDrive/Object_Detection/FINAL_MODEL_CHECKPOINTS'\n",
        "export_dir ='/content/drive/MyDrive/Object_Detection/FINAL_MODEL_EXPORT'"
      ],
      "metadata": {
        "id": "I9gVxM61jmdf"
      },
      "execution_count": 4,
      "outputs": []
    },
    {
      "cell_type": "markdown",
      "source": [
        "#### Load trained model from google drive"
      ],
      "metadata": {
        "id": "0T1qvNa0j9x2"
      }
    },
    {
      "cell_type": "code",
      "source": [
        "imported = tf.saved_model.load(export_dir)\n",
        "model_fn = imported.signatures['serving_default']"
      ],
      "metadata": {
        "id": "vLURUqM5kBeC"
      },
      "execution_count": 5,
      "outputs": []
    },
    {
      "cell_type": "markdown",
      "source": [
        "#### Useful functions"
      ],
      "metadata": {
        "id": "cMzXt9UMjqq3"
      }
    },
    {
      "cell_type": "markdown",
      "source": [
        "Some useful functions for loading data from files and resizing images:"
      ],
      "metadata": {
        "id": "H2WjS5sNkBE4"
      }
    },
    {
      "cell_type": "code",
      "source": [
        "def load_image_into_numpy_array(path):\n",
        "  \"\"\"Load an image from file into a numpy array, so that we can make predictions\n",
        "  on it using the trained model. The output array has shape\n",
        "  (height, width, channels), where channels=3 for RGB.\n",
        "\n",
        "  Args:\n",
        "    path: the file path to the image\n",
        "\n",
        "  Returns:\n",
        "    uint8 numpy array with shape (img_height, img_width, 3)\n",
        "  \"\"\"\n",
        "  image_data = tf.io.gfile.GFile(path, 'rb').read()\n",
        "  image = Image.open(BytesIO(image_data))\n",
        "  return image\n",
        "\n",
        "\n",
        "\n",
        "  #(im_width, im_height) = image.size\n",
        "  #return np.array(image.getdata()).reshape(\n",
        "      #(1, im_height, im_width, 3)).astype(np.uint8)\n",
        "\n",
        "\n",
        "def build_inputs_for_object_detection(image, input_image_size):\n",
        "  \"\"\"Builds Object Detection model inputs for serving.\"\"\"\n",
        "  image, _ = resize_and_crop_image(\n",
        "      image,\n",
        "      input_image_size,\n",
        "      padded_size=input_image_size,\n",
        "      aug_scale_min=1.0,\n",
        "      aug_scale_max=1.0)\n",
        "  return image"
      ],
      "metadata": {
        "id": "KidevrF2j1A5"
      },
      "execution_count": 6,
      "outputs": []
    },
    {
      "cell_type": "markdown",
      "source": [
        "### VISUALISE TEST IMAGES AND PREDICTIONS"
      ],
      "metadata": {
        "id": "wIuO-Cl9uSNr"
      }
    },
    {
      "cell_type": "markdown",
      "source": [
        "#### Ground-truth bounding boxes for test images"
      ],
      "metadata": {
        "id": "DFkGaabIlPcB"
      }
    },
    {
      "cell_type": "markdown",
      "source": [
        "Specify the location of the test dataset in the google drive:"
      ],
      "metadata": {
        "id": "9g4MGkHOmOCD"
      }
    },
    {
      "cell_type": "code",
      "source": [
        "test_data_input_path = '/content/drive/MyDrive/Object_Detection/Annotations/test.record'"
      ],
      "metadata": {
        "id": "jW753N8GmQPH"
      },
      "execution_count": 7,
      "outputs": []
    },
    {
      "cell_type": "markdown",
      "source": [
        "For each image in the test dataset, use the test TensorFlow records file to get the ground-truth bounding boxes, and count the number for each image. Also write the images with the ground-truth bounding boxes to a folder in google drive."
      ],
      "metadata": {
        "id": "BYLjz4Uoppx1"
      }
    },
    {
      "cell_type": "code",
      "source": [
        "category_index={\n",
        "    1: {\n",
        "        'id': 1,\n",
        "        'name': 'Trash'\n",
        "       },\n",
        "}\n",
        "tf_ex_decoder = TfExampleDecoder()"
      ],
      "metadata": {
        "id": "X2Yy1vTuvll5"
      },
      "execution_count": 8,
      "outputs": []
    },
    {
      "cell_type": "code",
      "source": [
        "true_num_objects = {}\n",
        "test_dataset = tf.data.TFRecordDataset(test_data_input_path)\n",
        "use_normalized_coordinates=True\n",
        "min_score_thresh = 0.25\n",
        "\n",
        "for i, serialized_example in enumerate(test_dataset):\n",
        "\n",
        "  example = tf.train.Example()\n",
        "  example.ParseFromString(serialized_example.numpy())\n",
        "  filename = example.features.feature['image/filename'].bytes_list.value[0].decode('utf-8')\n",
        "\n",
        "  decoded_tensors = tf_ex_decoder.decode(serialized_example)\n",
        "  image = decoded_tensors['image'].numpy().astype('uint8')\n",
        "  scores = np.ones(shape=(len(decoded_tensors['groundtruth_boxes'])))\n",
        "\n",
        "  true_num_objects[filename] = len(scores)\n",
        "\n",
        "  visualization_utils.visualize_boxes_and_labels_on_image_array(\n",
        "      image,\n",
        "      decoded_tensors['groundtruth_boxes'].numpy(),\n",
        "      decoded_tensors['groundtruth_classes'].numpy().astype('int'),\n",
        "      scores,\n",
        "      category_index=category_index,\n",
        "      use_normalized_coordinates=use_normalized_coordinates,\n",
        "      max_boxes_to_draw=200,\n",
        "      min_score_thresh=min_score_thresh,\n",
        "      agnostic_mode=False,\n",
        "      instance_masks=None,\n",
        "      line_thickness=4)\n",
        "\n",
        "  image = image[:, :, ::-1]\n",
        "  folder_path = '/content/drive/MyDrive/Object_Detection/test_images_true/'\n",
        "  filename = str(decoded_tensors['source_id'].numpy())\n",
        "  cv2.imwrite(folder_path + filename + \".jpg\", image)\n",
        "\n",
        "for key in list(true_num_objects.keys())[:5]:\n",
        "  print((key,true_num_objects[key]))"
      ],
      "metadata": {
        "id": "0CY_ZeE3lRGl",
        "colab": {
          "base_uri": "https://localhost:8080/"
        },
        "outputId": "a0383fd3-0c94-4989-c434-26c0ee4b7636"
      },
      "execution_count": 33,
      "outputs": [
        {
          "output_type": "stream",
          "name": "stdout",
          "text": [
            "('1742796461509.jpg', 1)\n",
            "('1742797772698.jpg', 1)\n",
            "('1742799793611.jpg', 17)\n",
            "('1742800648623.jpg', 12)\n",
            "('1742800975408.jpg', 0)\n"
          ]
        }
      ]
    },
    {
      "cell_type": "markdown",
      "source": [
        "#### Predicted bounding boxes for test images"
      ],
      "metadata": {
        "id": "ETo2tQqrqMEA"
      }
    },
    {
      "cell_type": "markdown",
      "source": [
        "Specify location of test images in the google drive:"
      ],
      "metadata": {
        "id": "uEz2ThPRrtZ8"
      }
    },
    {
      "cell_type": "code",
      "source": [
        "test_images_path = '/content/drive/MyDrive/Object_Detection/test/'"
      ],
      "metadata": {
        "id": "6_ZdzCtTnUTm"
      },
      "execution_count": 11,
      "outputs": []
    },
    {
      "cell_type": "markdown",
      "source": [
        "For each test image, use the model to make a prediction of the number of objects and add this to a dictionary with the name of the image file as the key. Also, save a copy of the image with the predicted bounding boxes to my google drive."
      ],
      "metadata": {
        "id": "PL-inSMB4lAL"
      }
    },
    {
      "cell_type": "code",
      "source": [
        "# Rescale images to the size that was used for training\n",
        "HEIGHT = 1024\n",
        "WIDTH = 1024\n",
        "input_image_size = (HEIGHT, WIDTH)\n",
        "min_score_thresh = 0.25\n",
        "predicted_num_objects = {}\n",
        "\n",
        "for filepath in glob.glob(test_images_path + '*.jpg'):\n",
        "\n",
        "  image = load_image_into_numpy_array(filepath)\n",
        "  image = build_inputs_for_object_detection(image, input_image_size)\n",
        "  image = tf.expand_dims(image, axis=0)\n",
        "  image = tf.cast(image, dtype = tf.uint8)\n",
        "  image_np = image[0].numpy()\n",
        "  result = model_fn(image)\n",
        "\n",
        "  detections = [score for score in result['detection_scores'][0].numpy() if score > 0.25]\n",
        "  filename = str(filepath.removeprefix(test_images_path))\n",
        "  predicted_num_objects[filename]=len(detections)\n",
        "\n",
        "  visualization_utils.visualize_boxes_and_labels_on_image_array(\n",
        "      image_np,\n",
        "      result['detection_boxes'][0].numpy(),\n",
        "      result['detection_classes'][0].numpy().astype(int),\n",
        "      result['detection_scores'][0].numpy(),\n",
        "      category_index=category_index,\n",
        "      use_normalized_coordinates=False,\n",
        "      max_boxes_to_draw=200,\n",
        "      min_score_thresh=min_score_thresh,\n",
        "      agnostic_mode=False,\n",
        "      instance_masks=None,\n",
        "      line_thickness=4)\n",
        "\n",
        "  image_np = image_np[:, :, ::-1]\n",
        "  folder_path = '/content/drive/MyDrive/Object_Detection/test_images_predictions/'\n",
        "  filename = str(filepath.removeprefix(test_images_path))\n",
        "  cv2.imwrite(folder_path + filename, image_np)\n",
        "\n",
        "for key in list(predicted_num_objects.keys())[:5]:\n",
        "  print((key,predicted_num_objects[key]))"
      ],
      "metadata": {
        "colab": {
          "base_uri": "https://localhost:8080/"
        },
        "id": "OPvsqKaSsUYv",
        "outputId": "9a379680-65c3-4db1-b415-f2d6dba6e0e4"
      },
      "execution_count": 32,
      "outputs": [
        {
          "output_type": "stream",
          "name": "stdout",
          "text": [
            "('1742978181612.jpg', 0)\n",
            "('1742797772698.jpg', 3)\n",
            "('1742999763639.jpg', 11)\n",
            "('1743173379181.jpg', 1)\n",
            "('1742800975408.jpg', 6)\n"
          ]
        }
      ]
    },
    {
      "cell_type": "markdown",
      "source": [
        "#### Plot the 'correct' number of detections and predicted number of detections"
      ],
      "metadata": {
        "id": "AqErTsjBstR4"
      }
    },
    {
      "cell_type": "markdown",
      "source": [
        "Print the predicted number of bounding boxes and the true number of bounding boxes for each image. Show this in a scatter graph:"
      ],
      "metadata": {
        "id": "K-rRwM0Pt2me"
      }
    },
    {
      "cell_type": "code",
      "source": [
        "true_num_objects_list = []\n",
        "predicted_num_objects_list = []\n",
        "for filename in true_num_objects.keys():\n",
        "  true_number = true_num_objects[filename]\n",
        "  predicted_number = predicted_num_objects[filename]\n",
        "  true_num_objects_list.append(true_number)\n",
        "  predicted_num_objects_list.append(predicted_number)\n",
        "  print(filename + \": \" + str((true_number,predicted_number)))\n",
        "\n",
        "plt.scatter(true_num_objects_list, predicted_num_objects_list, label=\"Actual Performance\")\n",
        "plt.xlabel(\"True Number of Objects\")\n",
        "plt.ylabel(\"Predicted Number of Objects\")\n",
        "plt.title(\"Performance of model on test dataset\")\n",
        "\n",
        "xs = np.linspace(0,50,1000)\n",
        "plt.plot(xs,xs, color = \"red\", label=\"Correct Number of Bounding Boxes\")\n",
        "plt.legend()"
      ],
      "metadata": {
        "colab": {
          "base_uri": "https://localhost:8080/",
          "height": 1000
        },
        "id": "d6iNnd_ot_oz",
        "outputId": "c41df0c6-3e1f-42b0-bbd1-69529a7c2c7c"
      },
      "execution_count": 39,
      "outputs": [
        {
          "output_type": "stream",
          "name": "stdout",
          "text": [
            "1742796461509.jpg: (1, 0)\n",
            "1742797772698.jpg: (1, 3)\n",
            "1742799793611.jpg: (17, 7)\n",
            "1742800648623.jpg: (12, 9)\n",
            "1742800975408.jpg: (0, 6)\n",
            "1742802453328.jpg: (0, 1)\n",
            "1742802997434.jpg: (3, 6)\n",
            "1742803031794.jpg: (16, 11)\n",
            "1742805661199.jpg: (4, 5)\n",
            "1742807312703.jpg: (9, 13)\n",
            "1742808065341.jpg: (0, 0)\n",
            "1742820874630.jpg: (2, 2)\n",
            "1742821572060.jpg: (4, 1)\n",
            "1742824387337.jpg: (3, 10)\n",
            "1742824913044.jpg: (10, 9)\n",
            "1742884849548.jpg: (9, 7)\n",
            "1742885612840.jpg: (9, 7)\n",
            "1742886001840.jpg: (0, 2)\n",
            "1742886300257.jpg: (11, 10)\n",
            "1742888417154.jpg: (0, 0)\n",
            "1742892551263.jpg: (12, 10)\n",
            "1742894696364.jpg: (4, 4)\n",
            "1742902946655.jpg: (1, 5)\n",
            "1742908279112.jpg: (0, 6)\n",
            "1742909197701.jpg: (0, 6)\n",
            "1742913106633.jpg: (3, 2)\n",
            "1742972052757.jpg: (33, 21)\n",
            "1742972255845.jpg: (2, 2)\n",
            "1742975342064.jpg: (3, 0)\n",
            "1742976236628.jpg: (5, 4)\n",
            "1742977589337.jpg: (0, 5)\n",
            "1742978181612.jpg: (1, 0)\n",
            "1742980732042.jpg: (1, 0)\n",
            "1742982511677.jpg: (51, 41)\n",
            "1742982624173.jpg: (0, 0)\n",
            "1742982630239.jpg: (0, 0)\n",
            "1742986233563.jpg: (0, 1)\n",
            "1742990642926.jpg: (0, 1)\n",
            "1742990905234.jpg: (1, 0)\n",
            "1742991565927.jpg: (0, 0)\n",
            "1742993688095.jpg: (1, 4)\n",
            "1742995721857.jpg: (9, 8)\n",
            "1742996105410.jpg: (0, 1)\n",
            "1742999366878.jpg: (30, 18)\n",
            "1742999763639.jpg: (0, 11)\n",
            "1743059028703.jpg: (2, 1)\n",
            "1743061682895.jpg: (0, 0)\n",
            "1743065449978.jpg: (0, 0)\n",
            "1743065765422.jpg: (0, 0)\n",
            "1743072096887.jpg: (7, 0)\n",
            "1743075101818.jpg: (14, 10)\n",
            "1743080639921.jpg: (0, 2)\n",
            "1743081872292.jpg: (16, 14)\n",
            "1743083672823.jpg: (26, 13)\n",
            "1743084203093.jpg: (2, 0)\n",
            "1743084363968.jpg: (0, 0)\n",
            "1743084588249.jpg: (1, 2)\n",
            "1743085155353.jpg: (0, 0)\n",
            "1743086020521.jpg: (1, 0)\n",
            "1743087164774.jpg: (2, 7)\n",
            "1743143691929.jpg: (19, 15)\n",
            "1743144290143.jpg: (20, 19)\n",
            "1743144651182.jpg: (0, 0)\n",
            "1743147422215.jpg: (3, 1)\n",
            "1743149999479.jpg: (5, 7)\n",
            "1743151489965.jpg: (0, 0)\n",
            "1743152231432.jpg: (8, 8)\n",
            "1743153435980.jpg: (1, 1)\n",
            "1743155228604.jpg: (7, 4)\n",
            "1743156791060.jpg: (5, 3)\n",
            "1743157300831.jpg: (16, 11)\n",
            "1743159311295.jpg: (2, 3)\n",
            "1743159838887.jpg: (2, 4)\n",
            "1743161459865.jpg: (18, 6)\n",
            "1743163219576.jpg: (1, 2)\n",
            "1743163765659.jpg: (0, 0)\n",
            "1743164992182.jpg: (0, 1)\n",
            "1743165256204.jpg: (1, 1)\n",
            "1743166981937.jpg: (0, 0)\n",
            "1743167558831.jpg: (0, 2)\n",
            "1743173110593.jpg: (22, 21)\n",
            "1743173379181.jpg: (0, 1)\n",
            "1743174353838.jpg: (0, 1)\n",
            "1743176780757.jpg: (2, 2)\n",
            "1743224831326.jpg: (2, 0)\n",
            "1743226515213.jpg: (0, 2)\n",
            "1743227386915.jpg: (0, 1)\n",
            "1743227503060.jpg: (26, 19)\n",
            "1743230957976.jpg: (1, 3)\n",
            "1743239254595.jpg: (0, 0)\n",
            "1743239663156.jpg: (9, 11)\n",
            "1743240360759.jpg: (0, 0)\n",
            "1743244177279.jpg: (4, 2)\n",
            "1743254949254.jpg: (0, 1)\n",
            "1743488840304.jpg: (4, 3)\n",
            "1743659941452.jpg: (4, 5)\n",
            "1743684011952.jpg: (3, 2)\n",
            "1743844588829.jpg: (2, 3)\n"
          ]
        },
        {
          "output_type": "execute_result",
          "data": {
            "text/plain": [
              "<matplotlib.legend.Legend at 0x7bc434eabce0>"
            ]
          },
          "metadata": {},
          "execution_count": 39
        },
        {
          "output_type": "display_data",
          "data": {
            "text/plain": [
              "<Figure size 640x480 with 1 Axes>"
            ],
            "image/png": "[encoded data removed]"
          },
          "metadata": {}
        }
      ]
    },
    {
      "cell_type": "markdown",
      "source": [
        "This graph suggests that the predicted number of bounding boxes can be used as an indicator of whether there is a high amount of trash or a low amount of trash, as the predicted number of bounding boxes generally increases with the true number of bounding boxes."
      ],
      "metadata": {
        "id": "tNgKI8c0uXii"
      }
    },
    {
      "cell_type": "markdown",
      "source": [
        "Do the same for area:"
      ],
      "metadata": {
        "id": "W9NIvgS6rO8B"
      }
    },
    {
      "cell_type": "markdown",
      "source": [
        "### INFERENCE ON DATASET"
      ],
      "metadata": {
        "id": "LDR7KtmVGfuy"
      }
    },
    {
      "cell_type": "markdown",
      "source": [
        "Run the model on each of the unseen images and get the number of bounding boxes. Add them to a list, and then at the end, write the whole list to a csv file."
      ],
      "metadata": {
        "id": "BR2qWYnwK51G"
      }
    },
    {
      "cell_type": "code",
      "source": [
        "# Rescale input to size (1024,1024)\n",
        "input_size = (1024,1024)\n",
        "output_info = []\n",
        "# CHANGE THIS PATH WITH THE NAME OF YOUR DATA FOLDER\n",
        "data_path = '/content/drive/MyDrive/Object_Detection/test/'\n",
        "# CHANGE THIS FILENAME TO THE DESIRED NAME OF YOUR CSV FILE\n",
        "output_filename = 'test2.csv'\n",
        "\n",
        "for filepath in glob.glob(data_path + '*.jpg'):\n",
        "\n",
        "  image = load_image_into_numpy_array(filepath)\n",
        "  image = build_inputs_for_object_detection(image,input_size)\n",
        "  image = tf.expand_dims(image, axis=0)\n",
        "  image = tf.cast(image, dtype = tf.uint8)\n",
        "  image_np = image[0].numpy()\n",
        "  result = model_fn(image)\n",
        "\n",
        "  # Count the number of bounding boxes above the confidence threshold of 0.25\n",
        "  count = len([score for score in result['detection_scores'][0] if score > 0.25])\n",
        "\n",
        "  filename = filepath.removeprefix(data_path)\n",
        "  image_dict = {'image_id':filename, 'num_detections':count}\n",
        "  output_info.append(image_dict)\n",
        "\n",
        "# Path to the location where you want to store the CSV files\n",
        "output_dir = '/content/drive/MyDrive/Object_Detection/output_data/'\n",
        "# CHANGE THIS LINE WITH THE DESIRED NAME OF YOUR CSV FILE\n",
        "output_path = os.path.join(output_dir, output_filename)\n",
        "\n",
        "# Create the output directory if it doesn't exist\n",
        "os.makedirs(output_dir, exist_ok=True)\n",
        "\n",
        "with open(output_path, 'w', newline='') as csvfile:\n",
        "  fieldnames = ['image_id','num_detections']\n",
        "  writer = csv.DictWriter(csvfile, fieldnames=fieldnames)\n",
        "  writer.writeheader()\n",
        "  writer.writerows(output_info)"
      ],
      "metadata": {
        "id": "kUbddwn5LJql"
      },
      "execution_count": 9,
      "outputs": []
    }
  ]
}